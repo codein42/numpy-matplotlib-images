{
 "cells": [
  {
   "cell_type": "code",
   "execution_count": 1,
   "metadata": {},
   "outputs": [],
   "source": [
    "import numpy as np"
   ]
  },
  {
   "cell_type": "code",
   "execution_count": 3,
   "metadata": {},
   "outputs": [],
   "source": [
    "one = np.arange(10, 30).reshape(4, 5)"
   ]
  },
  {
   "cell_type": "code",
   "execution_count": 4,
   "metadata": {},
   "outputs": [],
   "source": [
    "two = np.arange(70, 50, -1).reshape(4, 5)"
   ]
  },
  {
   "cell_type": "code",
   "execution_count": 5,
   "metadata": {},
   "outputs": [
    {
     "data": {
      "text/plain": [
       "array([[10, 11, 12, 13, 14],\n",
       "       [15, 16, 17, 18, 19],\n",
       "       [20, 21, 22, 23, 24],\n",
       "       [25, 26, 27, 28, 29]])"
      ]
     },
     "execution_count": 5,
     "metadata": {},
     "output_type": "execute_result"
    }
   ],
   "source": [
    "one"
   ]
  },
  {
   "cell_type": "code",
   "execution_count": 6,
   "metadata": {},
   "outputs": [
    {
     "data": {
      "text/plain": [
       "array([[70, 69, 68, 67, 66],\n",
       "       [65, 64, 63, 62, 61],\n",
       "       [60, 59, 58, 57, 56],\n",
       "       [55, 54, 53, 52, 51]])"
      ]
     },
     "execution_count": 6,
     "metadata": {},
     "output_type": "execute_result"
    }
   ],
   "source": [
    "two"
   ]
  },
  {
   "cell_type": "code",
   "execution_count": 7,
   "metadata": {},
   "outputs": [
    {
     "data": {
      "text/plain": [
       "array([[80, 80, 80, 80, 80],\n",
       "       [80, 80, 80, 80, 80],\n",
       "       [80, 80, 80, 80, 80],\n",
       "       [80, 80, 80, 80, 80]])"
      ]
     },
     "execution_count": 7,
     "metadata": {},
     "output_type": "execute_result"
    }
   ],
   "source": [
    "one + two"
   ]
  },
  {
   "cell_type": "code",
   "execution_count": 11,
   "metadata": {},
   "outputs": [
    {
     "data": {
      "text/plain": [
       "array([[0, 0, 0, 0, 0],\n",
       "       [0, 0, 0, 0, 0],\n",
       "       [0, 0, 0, 0, 0],\n",
       "       [0, 0, 0, 0, 0]])"
      ]
     },
     "execution_count": 11,
     "metadata": {},
     "output_type": "execute_result"
    }
   ],
   "source": [
    "one // two"
   ]
  },
  {
   "cell_type": "code",
   "execution_count": 24,
   "metadata": {},
   "outputs": [],
   "source": [
    "arr = np.arange(90).reshape(5, 3, 2, 3)"
   ]
  },
  {
   "cell_type": "code",
   "execution_count": 25,
   "metadata": {},
   "outputs": [
    {
     "data": {
      "text/plain": [
       "(5, 3, 2, 3)"
      ]
     },
     "execution_count": 25,
     "metadata": {},
     "output_type": "execute_result"
    }
   ],
   "source": [
    "arr.shape"
   ]
  },
  {
   "cell_type": "code",
   "execution_count": 27,
   "metadata": {},
   "outputs": [
    {
     "data": {
      "text/plain": [
       "array([[[[  0,   2,   4],\n",
       "         [  6,   8,  10]],\n",
       "\n",
       "        [[ 12,  14,  16],\n",
       "         [ 18,  20,  22]],\n",
       "\n",
       "        [[ 24,  26,  28],\n",
       "         [ 30,  32,  34]]],\n",
       "\n",
       "\n",
       "       [[[ 18,  20,  22],\n",
       "         [ 24,  26,  28]],\n",
       "\n",
       "        [[ 30,  32,  34],\n",
       "         [ 36,  38,  40]],\n",
       "\n",
       "        [[ 42,  44,  46],\n",
       "         [ 48,  50,  52]]],\n",
       "\n",
       "\n",
       "       [[[ 36,  38,  40],\n",
       "         [ 42,  44,  46]],\n",
       "\n",
       "        [[ 48,  50,  52],\n",
       "         [ 54,  56,  58]],\n",
       "\n",
       "        [[ 60,  62,  64],\n",
       "         [ 66,  68,  70]]],\n",
       "\n",
       "\n",
       "       [[[ 54,  56,  58],\n",
       "         [ 60,  62,  64]],\n",
       "\n",
       "        [[ 66,  68,  70],\n",
       "         [ 72,  74,  76]],\n",
       "\n",
       "        [[ 78,  80,  82],\n",
       "         [ 84,  86,  88]]],\n",
       "\n",
       "\n",
       "       [[[ 72,  74,  76],\n",
       "         [ 78,  80,  82]],\n",
       "\n",
       "        [[ 84,  86,  88],\n",
       "         [ 90,  92,  94]],\n",
       "\n",
       "        [[ 96,  98, 100],\n",
       "         [102, 104, 106]]]])"
      ]
     },
     "execution_count": 27,
     "metadata": {},
     "output_type": "execute_result"
    }
   ],
   "source": [
    "arr +  np.arange(18).reshape(3, 2, 3)"
   ]
  },
  {
   "cell_type": "code",
   "execution_count": 31,
   "metadata": {},
   "outputs": [
    {
     "data": {
      "text/plain": [
       "array([[[[ 0,  2,  4],\n",
       "         [ 3,  5,  7]],\n",
       "\n",
       "        [[ 6,  8, 10],\n",
       "         [ 9, 11, 13]],\n",
       "\n",
       "        [[12, 14, 16],\n",
       "         [15, 17, 19]]],\n",
       "\n",
       "\n",
       "       [[[18, 20, 22],\n",
       "         [21, 23, 25]],\n",
       "\n",
       "        [[24, 26, 28],\n",
       "         [27, 29, 31]],\n",
       "\n",
       "        [[30, 32, 34],\n",
       "         [33, 35, 37]]],\n",
       "\n",
       "\n",
       "       [[[36, 38, 40],\n",
       "         [39, 41, 43]],\n",
       "\n",
       "        [[42, 44, 46],\n",
       "         [45, 47, 49]],\n",
       "\n",
       "        [[48, 50, 52],\n",
       "         [51, 53, 55]]],\n",
       "\n",
       "\n",
       "       [[[54, 56, 58],\n",
       "         [57, 59, 61]],\n",
       "\n",
       "        [[60, 62, 64],\n",
       "         [63, 65, 67]],\n",
       "\n",
       "        [[66, 68, 70],\n",
       "         [69, 71, 73]]],\n",
       "\n",
       "\n",
       "       [[[72, 74, 76],\n",
       "         [75, 77, 79]],\n",
       "\n",
       "        [[78, 80, 82],\n",
       "         [81, 83, 85]],\n",
       "\n",
       "        [[84, 86, 88],\n",
       "         [87, 89, 91]]]])"
      ]
     },
     "execution_count": 31,
     "metadata": {},
     "output_type": "execute_result"
    }
   ],
   "source": [
    "arr +  np.arange(6).reshape(2, 3)"
   ]
  },
  {
   "cell_type": "code",
   "execution_count": 30,
   "metadata": {},
   "outputs": [
    {
     "data": {
      "text/plain": [
       "array([[[[ 0,  1,  2],\n",
       "         [ 3,  4,  5]],\n",
       "\n",
       "        [[ 6,  7,  8],\n",
       "         [ 9, 10, 11]],\n",
       "\n",
       "        [[12, 13, 14],\n",
       "         [15, 16, 17]]],\n",
       "\n",
       "\n",
       "       [[[18, 19, 20],\n",
       "         [21, 22, 23]],\n",
       "\n",
       "        [[24, 25, 26],\n",
       "         [27, 28, 29]],\n",
       "\n",
       "        [[30, 31, 32],\n",
       "         [33, 34, 35]]],\n",
       "\n",
       "\n",
       "       [[[36, 37, 38],\n",
       "         [39, 40, 41]],\n",
       "\n",
       "        [[42, 43, 44],\n",
       "         [45, 46, 47]],\n",
       "\n",
       "        [[48, 49, 50],\n",
       "         [51, 52, 53]]],\n",
       "\n",
       "\n",
       "       [[[54, 55, 56],\n",
       "         [57, 58, 59]],\n",
       "\n",
       "        [[60, 61, 62],\n",
       "         [63, 64, 65]],\n",
       "\n",
       "        [[66, 67, 68],\n",
       "         [69, 70, 71]]],\n",
       "\n",
       "\n",
       "       [[[72, 73, 74],\n",
       "         [75, 76, 77]],\n",
       "\n",
       "        [[78, 79, 80],\n",
       "         [81, 82, 83]],\n",
       "\n",
       "        [[84, 85, 86],\n",
       "         [87, 88, 89]]]])"
      ]
     },
     "execution_count": 30,
     "metadata": {},
     "output_type": "execute_result"
    }
   ],
   "source": [
    "arr"
   ]
  },
  {
   "cell_type": "code",
   "execution_count": 32,
   "metadata": {},
   "outputs": [
    {
     "data": {
      "text/plain": [
       "array([[[[ 5,  6,  7],\n",
       "         [ 8,  9, 10]],\n",
       "\n",
       "        [[11, 12, 13],\n",
       "         [14, 15, 16]],\n",
       "\n",
       "        [[17, 18, 19],\n",
       "         [20, 21, 22]]],\n",
       "\n",
       "\n",
       "       [[[23, 24, 25],\n",
       "         [26, 27, 28]],\n",
       "\n",
       "        [[29, 30, 31],\n",
       "         [32, 33, 34]],\n",
       "\n",
       "        [[35, 36, 37],\n",
       "         [38, 39, 40]]],\n",
       "\n",
       "\n",
       "       [[[41, 42, 43],\n",
       "         [44, 45, 46]],\n",
       "\n",
       "        [[47, 48, 49],\n",
       "         [50, 51, 52]],\n",
       "\n",
       "        [[53, 54, 55],\n",
       "         [56, 57, 58]]],\n",
       "\n",
       "\n",
       "       [[[59, 60, 61],\n",
       "         [62, 63, 64]],\n",
       "\n",
       "        [[65, 66, 67],\n",
       "         [68, 69, 70]],\n",
       "\n",
       "        [[71, 72, 73],\n",
       "         [74, 75, 76]]],\n",
       "\n",
       "\n",
       "       [[[77, 78, 79],\n",
       "         [80, 81, 82]],\n",
       "\n",
       "        [[83, 84, 85],\n",
       "         [86, 87, 88]],\n",
       "\n",
       "        [[89, 90, 91],\n",
       "         [92, 93, 94]]]])"
      ]
     },
     "execution_count": 32,
     "metadata": {},
     "output_type": "execute_result"
    }
   ],
   "source": [
    "arr + 5"
   ]
  },
  {
   "cell_type": "code",
   "execution_count": 33,
   "metadata": {},
   "outputs": [
    {
     "data": {
      "text/plain": [
       "array([[10, 11, 12, 13, 14],\n",
       "       [15, 16, 17, 18, 19],\n",
       "       [20, 21, 22, 23, 24],\n",
       "       [25, 26, 27, 28, 29]])"
      ]
     },
     "execution_count": 33,
     "metadata": {},
     "output_type": "execute_result"
    }
   ],
   "source": [
    "one"
   ]
  },
  {
   "cell_type": "code",
   "execution_count": 34,
   "metadata": {},
   "outputs": [
    {
     "data": {
      "text/plain": [
       "array([[10, 15, 20, 25],\n",
       "       [11, 16, 21, 26],\n",
       "       [12, 17, 22, 27],\n",
       "       [13, 18, 23, 28],\n",
       "       [14, 19, 24, 29]])"
      ]
     },
     "execution_count": 34,
     "metadata": {},
     "output_type": "execute_result"
    }
   ],
   "source": [
    "one.T"
   ]
  },
  {
   "cell_type": "code",
   "execution_count": null,
   "metadata": {},
   "outputs": [],
   "source": []
  }
 ],
 "metadata": {
  "kernelspec": {
   "display_name": "Python 3",
   "language": "python",
   "name": "python3"
  },
  "language_info": {
   "codemirror_mode": {
    "name": "ipython",
    "version": 3
   },
   "file_extension": ".py",
   "mimetype": "text/x-python",
   "name": "python",
   "nbconvert_exporter": "python",
   "pygments_lexer": "ipython3",
   "version": "3.7.2"
  }
 },
 "nbformat": 4,
 "nbformat_minor": 2
}
